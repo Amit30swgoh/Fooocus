{
 "cells": [
  {
   "cell_type": "code",
   "execution_count": null,
   "metadata": {
    "id": "VjYy0F2gZIPR"
   },
   "outputs": [],
   "source": [
    "!pip install pygit2==1.12.2\n",
    "%cd /content\n",
    "!git clone https://github.com/eddyizm/Fooocus.git\n",
    "%cd /content/Fooocus\n",
    "!git checkout change_default_model\n",
    "\n",
    "# extra lors\n",
    "!wget https://civitai.com/api/download/models/9326?type=Model&format=SafeTensor&size=full&fp=fp16 -O 'models/loras/[LoRA][Horror]s4w3d0ffBlend_v10.safetensors'\n",
    "\n"
   ]
  },
  {
   "cell_type": "code",
   "execution_count": null,
   "metadata": {},
   "outputs": [],
   "source": [
    "# some horror / gore loras\n",
    "# CarnageStyle.safetensors _ trigger words -> CarnageStyle, (blood_red:1.5)\n",
    "# https://civitai.com/api/download/models/157585?type=Model&format=SafeTensor\n",
    "# Deathia_yiu_v20.safetensors - trigger words -? <lora:deathia_yiu_v20:0.9>, Deathia\n",
    "# tokens: deathia, blurry, dimmed, lowkey, night, scary, horror, low quality, flashlight, monster.\n",
    "# https://civitai.com/api/download/models/191457?type=Model&format=SafeTensor\n",
    "# death2.safetensors - trigger words -> 1other horror (theme) monster dark\n",
    "# https://civitai.com/api/download/models/29813?type=Model&format=SafeTensor&size=full&fp=fp16\n",
    "# Body Horror - BodHor-V1.safetensors - no real trigger words but notes -> \"disgusting body horror creature\"\n",
    "# https://civitai.com/api/download/models/55777?type=Model&format=SafeTensor"
   ]
  },
  {
   "cell_type": "code",
   "execution_count": null,
   "metadata": {},
   "outputs": [],
   "source": [
    "!python entry_with_update.py --preset turbo --theme dark --share --always-high-vram --all-in-fp16"
   ]
  },
  {
   "cell_type": "markdown",
   "metadata": {},
   "source": [
    "Zip up output to download"
   ]
  },
  {
   "cell_type": "code",
   "execution_count": null,
   "metadata": {},
   "outputs": [],
   "source": [
    "!zip -r /content/output.zip /content/Fooocus/outputs/"
   ]
  },
  {
   "cell_type": "code",
   "execution_count": null,
   "metadata": {},
   "outputs": [],
   "source": [
    "# clean up images before downloading\n",
    "!rm outputs/2024-01-09/2024-01-09_05-2*.png"
   ]
  }
 ],
 "metadata": {
  "accelerator": "GPU",
  "colab": {
   "gpuType": "T4",
   "provenance": []
  },
  "kernelspec": {
   "display_name": "Python 3",
   "name": "python3"
  },
  "language_info": {
   "name": "python"
  }
 },
 "nbformat": 4,
 "nbformat_minor": 0
}
