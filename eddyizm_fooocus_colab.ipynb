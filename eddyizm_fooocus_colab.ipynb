{
 "cells": [
  {
   "cell_type": "code",
   "execution_count": null,
   "metadata": {
    "id": "VjYy0F2gZIPR"
   },
   "outputs": [],
   "source": [
    "!pip install pygit2==1.12.2\n",
    "%cd /content\n",
    "!git clone https://github.com/eddyizm/Fooocus.git\n",
    "%cd /content/Fooocus\n",
    "!git checkout change_default_model\n",
    "!wget https://civitai.com/api/download/models/9326 --content-disposition -P 'models/loras'\n",
    "!python entry_with_update.py --preset turbo --share"
   ]
  },
  {
   "cell_type": "markdown",
   "metadata": {},
   "source": [
    "Zip up output to download"
   ]
  },
  {
   "cell_type": "code",
   "execution_count": null,
   "metadata": {},
   "outputs": [],
   "source": [
    "!zip -r /content/output.zip /content/Fooocus/outputs/"
   ]
  },
  {
   "cell_type": "code",
   "execution_count": null,
   "metadata": {},
   "outputs": [],
   "source": [
    "# clean up images before downloading\n",
    "!rm outputs/2024-01-09/2024-01-09_05-2*.png"
   ]
  }
 ],
 "metadata": {
  "accelerator": "GPU",
  "colab": {
   "gpuType": "T4",
   "provenance": []
  },
  "kernelspec": {
   "display_name": "Python 3",
   "name": "python3"
  },
  "language_info": {
   "name": "python"
  }
 },
 "nbformat": 4,
 "nbformat_minor": 0
}
